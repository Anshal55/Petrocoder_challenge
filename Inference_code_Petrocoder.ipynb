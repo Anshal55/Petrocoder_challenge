{
  "nbformat": 4,
  "nbformat_minor": 0,
  "metadata": {
    "colab": {
      "name": "Inference_code_Petrocoder.ipynb",
      "provenance": [],
      "collapsed_sections": []
    },
    "kernelspec": {
      "display_name": "Python 3",
      "language": "python",
      "name": "python3"
    },
    "language_info": {
      "codemirror_mode": {
        "name": "ipython",
        "version": 3
      },
      "file_extension": ".py",
      "mimetype": "text/x-python",
      "name": "python",
      "nbconvert_exporter": "python",
      "pygments_lexer": "ipython3",
      "version": "3.9.4"
    }
  },
  "cells": [
    {
      "cell_type": "markdown",
      "metadata": {
        "id": "OVt_AqgRvX0T"
      },
      "source": [
        "BY Anshal Singh"
      ]
    },
    {
      "cell_type": "markdown",
      "metadata": {
        "id": "FYp_7QknsvIe"
      },
      "source": [
        "> For uploading the rquired data can also be uploaded directly and give path then."
      ]
    },
    {
      "cell_type": "code",
      "metadata": {
        "id": "EbKw4S8rraXZ"
      },
      "source": [
        "#pip install opendatasets --upgrade --quiet"
      ],
      "execution_count": 1,
      "outputs": []
    },
    {
      "cell_type": "code",
      "metadata": {
        "colab": {
          "base_uri": "https://localhost:8080/",
          "height": 35
        },
        "id": "xGUgosdHriU1",
        "outputId": "a5e11558-b3be-47b2-8227-8012f55a5025"
      },
      "source": [
        "'''import opendatasets as od\n",
        "od.download('https://www.kaggle.com/anshalsingh/petrocoder-dataset')'''"
      ],
      "execution_count": 37,
      "outputs": [
        {
          "output_type": "execute_result",
          "data": {
            "application/vnd.google.colaboratory.intrinsic+json": {
              "type": "string"
            },
            "text/plain": [
              "\"import opendatasets as od\\nod.download('https://www.kaggle.com/anshalsingh/petrocoder-dataset')\""
            ]
          },
          "metadata": {
            "tags": []
          },
          "execution_count": 37
        }
      ]
    },
    {
      "cell_type": "code",
      "metadata": {
        "id": "AIS2tEc34Uir"
      },
      "source": [
        "!pip install -r requirements.txt --quiet"
      ],
      "execution_count": 31,
      "outputs": []
    },
    {
      "cell_type": "code",
      "metadata": {
        "id": "LXomiTaz4Ui-"
      },
      "source": [
        "# import libraries\n",
        "import pandas as pd\n",
        "import numpy as np\n",
        "import pickle\n",
        "\n",
        "%matplotlib inline\n",
        "import matplotlib.pyplot as plt\n",
        "import seaborn as sns\n",
        "sns.set_style('darkgrid')\n",
        "\n",
        "# import sklearn libararies\n",
        "from sklearn.preprocessing import StandardScaler\n",
        "from sklearn.metrics import mean_absolute_error,r2_score\n",
        "from sklearn.neighbors import KNeighborsRegressor"
      ],
      "execution_count": 32,
      "outputs": []
    },
    {
      "cell_type": "code",
      "metadata": {
        "id": "38-hABy34UjB"
      },
      "source": [
        "class Model(object):\n",
        "    def __init__(self, model_file, scaler_file):\n",
        "        # Load pre-trained model from file\n",
        "        self.model = pickle.load(open(model_file, 'rb'))\n",
        "        # Load a pre-trained scaler from file\n",
        "        self.scaler = pickle.load(open(scaler_file, 'rb'))\n",
        "        \n",
        "    def preprocess(self, features):\n",
        "        features.fillna(0, inplace=True)\n",
        "        features.drop(['Well Identifier'], axis='columns', inplace=True)\n",
        "        features = StandardScaler().fit_transform(features)\n",
        "        return self.scaler.fit_transform(features)\n",
        "        \n",
        "    def predict(self, features):\n",
        "        X = self.preprocess(features)\n",
        "        y_pred = self.model.predict(X)\n",
        "        \n",
        "\n",
        "        return y_pred"
      ],
      "execution_count": 33,
      "outputs": []
    },
    {
      "cell_type": "code",
      "metadata": {
        "id": "yq0yQu594UjE"
      },
      "source": [
        "# Start the model\n",
        "knn = Model('knn_model.pkl', 'scaler.pkl')\n",
        "\n",
        "# Input test data file here\n",
        "test_data = pd.read_csv('./petrocoder-dataset/tech_challenge2021_test.csv')\n",
        "\n",
        "# Prediction\n",
        "y_pred = knn.predict(test_data)\n",
        "\n",
        "# Save the predicted value to \"result.csv\" file\n",
        "y_pred=pd.DataFrame(y_pred)\n",
        "y_pred.columns=['Rate of Penetration']\n",
        "y_pred.to_csv('Result.csv',index=False,float_format='%f')"
      ],
      "execution_count": 34,
      "outputs": []
    },
    {
      "cell_type": "code",
      "metadata": {
        "id": "0BW0VzUdsau1"
      },
      "source": [
        "result=pd.read_csv('./Result.csv')"
      ],
      "execution_count": 35,
      "outputs": []
    },
    {
      "cell_type": "code",
      "metadata": {
        "colab": {
          "base_uri": "https://localhost:8080/",
          "height": 204
        },
        "id": "JDatsj5Gsoy4",
        "outputId": "15394e02-a83f-46b4-edac-11c788d08619"
      },
      "source": [
        "result.head()"
      ],
      "execution_count": 36,
      "outputs": [
        {
          "output_type": "execute_result",
          "data": {
            "text/html": [
              "<div>\n",
              "<style scoped>\n",
              "    .dataframe tbody tr th:only-of-type {\n",
              "        vertical-align: middle;\n",
              "    }\n",
              "\n",
              "    .dataframe tbody tr th {\n",
              "        vertical-align: top;\n",
              "    }\n",
              "\n",
              "    .dataframe thead th {\n",
              "        text-align: right;\n",
              "    }\n",
              "</style>\n",
              "<table border=\"1\" class=\"dataframe\">\n",
              "  <thead>\n",
              "    <tr style=\"text-align: right;\">\n",
              "      <th></th>\n",
              "      <th>Rate of Penetration</th>\n",
              "    </tr>\n",
              "  </thead>\n",
              "  <tbody>\n",
              "    <tr>\n",
              "      <th>0</th>\n",
              "      <td>34.950833</td>\n",
              "    </tr>\n",
              "    <tr>\n",
              "      <th>1</th>\n",
              "      <td>34.950833</td>\n",
              "    </tr>\n",
              "    <tr>\n",
              "      <th>2</th>\n",
              "      <td>34.950833</td>\n",
              "    </tr>\n",
              "    <tr>\n",
              "      <th>3</th>\n",
              "      <td>34.950833</td>\n",
              "    </tr>\n",
              "    <tr>\n",
              "      <th>4</th>\n",
              "      <td>34.950833</td>\n",
              "    </tr>\n",
              "  </tbody>\n",
              "</table>\n",
              "</div>"
            ],
            "text/plain": [
              "   Rate of Penetration\n",
              "0            34.950833\n",
              "1            34.950833\n",
              "2            34.950833\n",
              "3            34.950833\n",
              "4            34.950833"
            ]
          },
          "metadata": {
            "tags": []
          },
          "execution_count": 36
        }
      ]
    },
    {
      "cell_type": "code",
      "metadata": {
        "id": "KXUmJ6Mmu4RS"
      },
      "source": [
        ""
      ],
      "execution_count": null,
      "outputs": []
    }
  ]
}